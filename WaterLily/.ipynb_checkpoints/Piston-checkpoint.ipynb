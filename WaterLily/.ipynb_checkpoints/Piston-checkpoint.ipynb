{
 "cells": [
  {
   "cell_type": "code",
   "execution_count": 10,
   "id": "reasonable-tribune",
   "metadata": {},
   "outputs": [
    {
     "data": {
      "text/plain": [
       "contour_video! (generic function with 1 method)"
      ]
     },
     "execution_count": 10,
     "metadata": {},
     "output_type": "execute_result"
    }
   ],
   "source": [
    "using WaterLily\n",
    "using LinearAlgebra: norm2\n",
    "include(\"ThreeD_Plots.jl\")\n",
    "include(\"TwoD_plots.jl\")"
   ]
  },
  {
   "cell_type": "code",
   "execution_count": null,
   "id": "indonesian-visit",
   "metadata": {},
   "outputs": [],
   "source": [
    "function TwoD_julia_video(;p=6,Re=250,stop=60.)\n",
    "    # Set simulation size & physical parameters\n",
    "    n,m = 2^p,2^p\n",
    "    U,R,r = [0.,-1.], m/16, m/16/0.75\n",
    "    ν=norm2(U)*R/Re\n",
    "    @show R,ν\n",
    "\n",
    "    # Immerse three well placed circles (change for other shapes)\n",
    "    z = [R*exp(im*θ) for θ ∈ range(0,2π,length=33)]\n",
    "    centers = [n/2+im*3*m/4+r*exp(im*ϕ) for ϕ ∈ [π/2,π/2+2π/3,π/2-2π/3]]\n",
    "    colors = [:forestgreen,:brown3,:mediumorchid3]\n",
    "    body = AutoBody() do x,t  # signed distance function\n",
    "            minimum(centers) do center\n",
    "                norm2(complex(x...) - center) - R\n",
    "            end\n",
    "    end\n",
    "\n",
    "    # Initialize simulation\n",
    "    sim = Simulation((n+2,m+2),U,R;ν,body)\n",
    "\n",
    "    # Solve flow and make nice gif\n",
    "    t = range(0.,stop;step=0.3)\n",
    "    gr(show = false, size=(700,600))\n",
    "    @time @gif for tᵢ in t\n",
    "        println(\"tU/L=\",round(tᵢ,digits=4))\n",
    "        sim_step!(sim,tᵢ)\n",
    "        @inside sim.flow.σ[I] = WaterLily.curl(3,I,sim.flow.u)*sim.L/sim.U\n",
    "        flood(sim.flow.σ,shift=(-0.5,-0.5),clims=(-5,5),\n",
    "            cfill=:Blues,legend=false,border=:none)\n",
    "        for (center,color) ∈ zip(centers,colors)\n",
    "            addbody(real(z.+center),imag(z.+center),c=color)\n",
    "        end\n",
    "    end\n",
    "    return sim\n",
    "end"
   ]
  }
 ],
 "metadata": {
  "kernelspec": {
   "display_name": "Julia 1.5.3",
   "language": "julia",
   "name": "julia-1.5"
  },
  "language_info": {
   "file_extension": ".jl",
   "mimetype": "application/julia",
   "name": "julia",
   "version": "1.5.3"
  }
 },
 "nbformat": 4,
 "nbformat_minor": 5
}
