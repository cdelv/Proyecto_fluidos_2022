{
 "cells": [
  {
   "cell_type": "code",
   "execution_count": 8,
   "id": "unusual-gender",
   "metadata": {},
   "outputs": [
    {
     "data": {
      "text/plain": [
       "vectors (generic function with 1 method)"
      ]
     },
     "execution_count": 8,
     "metadata": {},
     "output_type": "execute_result"
    }
   ],
   "source": [
    "using WaterLily\n",
    "using LinearAlgebra: norm2\n",
    "using StaticArrays\n",
    "using BenchmarkTools\n",
    "\n",
    "include(\"TwoD_plots.jl\")"
   ]
  },
  {
   "cell_type": "code",
   "execution_count": 2,
   "id": "serious-state",
   "metadata": {},
   "outputs": [
    {
     "data": {
      "text/plain": [
       "2.414213562373095"
      ]
     },
     "execution_count": 2,
     "metadata": {},
     "output_type": "execute_result"
    }
   ],
   "source": [
    "L=2^5\n",
    "Re=250\n",
    "U=1\n",
    "amp=π/4\n",
    "ϵ=0.5\n",
    "thk=2ϵ+√2"
   ]
  },
  {
   "cell_type": "code",
   "execution_count": 3,
   "id": "alone-touch",
   "metadata": {},
   "outputs": [
    {
     "data": {
      "text/plain": [
       "map (generic function with 1 method)"
      ]
     },
     "execution_count": 3,
     "metadata": {},
     "output_type": "execute_result"
    }
   ],
   "source": [
    "function sdf(x,t)\n",
    "    y = x .- SVector(0.,clamp(x[2],-L/2,L/2))\n",
    "    √sum(abs2,y)-thk/2\n",
    "end\n",
    "function map(x,t)\n",
    "    t\n",
    "end"
   ]
  },
  {
   "cell_type": "code",
   "execution_count": 7,
   "id": "latter-compression",
   "metadata": {},
   "outputs": [
    {
     "ename": "LoadError",
     "evalue": "\u001b[91mUndefVarError: block not defined\u001b[39m",
     "output_type": "error",
     "traceback": [
      "\u001b[91mUndefVarError: block not defined\u001b[39m",
      "",
      "Stacktrace:",
      " [1] top-level scope at In[7]:2",
      " [2] include_string(::Function, ::Module, ::String, ::String) at ./loading.jl:1091"
     ]
    }
   ],
   "source": [
    "test() = sim_step!(sim,π/4,remeasure=true) setup=(sim=block())"
   ]
  },
  {
   "cell_type": "code",
   "execution_count": 6,
   "id": "played-electronics",
   "metadata": {},
   "outputs": [
    {
     "ename": "LoadError",
     "evalue": "\u001b[91mUndefVarError: block not defined\u001b[39m",
     "output_type": "error",
     "traceback": [
      "\u001b[91mUndefVarError: block not defined\u001b[39m",
      "",
      "Stacktrace:",
      " [1] top-level scope at In[6]:1",
      " [2] include_string(::Function, ::Module, ::String, ::String) at ./loading.jl:1091"
     ]
    }
   ],
   "source": [
    "sim_gif!(block();duration=4π,step=π/16,remeasure=true)\n",
    "sim_gif!(block(amp=π/4);duration=8π,step=π/16,remeasure=true,μbody=true,cfill=:Blues,legend=false,border=:none)"
   ]
  },
  {
   "cell_type": "code",
   "execution_count": null,
   "id": "developing-system",
   "metadata": {},
   "outputs": [],
   "source": []
  }
 ],
 "metadata": {
  "kernelspec": {
   "display_name": "Julia 1.5.3",
   "language": "julia",
   "name": "julia-1.5"
  },
  "language_info": {
   "file_extension": ".jl",
   "mimetype": "application/julia",
   "name": "julia",
   "version": "1.5.3"
  }
 },
 "nbformat": 4,
 "nbformat_minor": 5
}
